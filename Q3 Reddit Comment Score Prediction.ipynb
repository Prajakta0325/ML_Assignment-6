{
 "cells": [
  {
   "cell_type": "code",
   "execution_count": 52,
   "id": "4c9594c3",
   "metadata": {},
   "outputs": [],
   "source": [
    "import pandas as pd\n",
    "import numpy as np\n",
    "import matplotlib.pyplot as plt\n",
    "import seaborn as sns"
   ]
  },
  {
   "cell_type": "code",
   "execution_count": 53,
   "id": "6313c977",
   "metadata": {},
   "outputs": [
    {
     "data": {
      "text/html": [
       "<div>\n",
       "<style scoped>\n",
       "    .dataframe tbody tr th:only-of-type {\n",
       "        vertical-align: middle;\n",
       "    }\n",
       "\n",
       "    .dataframe tbody tr th {\n",
       "        vertical-align: top;\n",
       "    }\n",
       "\n",
       "    .dataframe thead th {\n",
       "        text-align: right;\n",
       "    }\n",
       "</style>\n",
       "<table border=\"1\" class=\"dataframe\">\n",
       "  <thead>\n",
       "    <tr style=\"text-align: right;\">\n",
       "      <th></th>\n",
       "      <th>text</th>\n",
       "      <th>author</th>\n",
       "      <th>controversiality</th>\n",
       "      <th>parent_text</th>\n",
       "      <th>parent_score</th>\n",
       "      <th>parent_votes</th>\n",
       "      <th>parent_author</th>\n",
       "      <th>parent_controversiality</th>\n",
       "    </tr>\n",
       "  </thead>\n",
       "  <tbody>\n",
       "    <tr>\n",
       "      <th>0</th>\n",
       "      <td>Big deal. He once fought in the Napoleonic war...</td>\n",
       "      <td>['RecQuery']</td>\n",
       "      <td>0</td>\n",
       "      <td>Big deal. He was once shot with three arrows a...</td>\n",
       "      <td>438</td>\n",
       "      <td>438</td>\n",
       "      <td>illchopyourfaceoff</td>\n",
       "      <td>0</td>\n",
       "    </tr>\n",
       "    <tr>\n",
       "      <th>1</th>\n",
       "      <td>I don't think the animal cares, either way, it...</td>\n",
       "      <td>['N4N4KI']</td>\n",
       "      <td>0</td>\n",
       "      <td>Animal cruelty is not a joke.  It is not the s...</td>\n",
       "      <td>38</td>\n",
       "      <td>38</td>\n",
       "      <td>0_o</td>\n",
       "      <td>0</td>\n",
       "    </tr>\n",
       "    <tr>\n",
       "      <th>2</th>\n",
       "      <td>&amp;GT; IT'S FAIRLY OBVIOUS YOU HAVE AN AGENDA HE...</td>\n",
       "      <td>['cometparty']</td>\n",
       "      <td>0</td>\n",
       "      <td>&amp;gt;**You people** have time and time again sh...</td>\n",
       "      <td>16</td>\n",
       "      <td>16</td>\n",
       "      <td>[deleted]</td>\n",
       "      <td>0</td>\n",
       "    </tr>\n",
       "    <tr>\n",
       "      <th>3</th>\n",
       "      <td>It's probably due to their skin looking supple...</td>\n",
       "      <td>['[deleted]']</td>\n",
       "      <td>0</td>\n",
       "      <td>I like women who are either naturally tan or a...</td>\n",
       "      <td>902</td>\n",
       "      <td>902</td>\n",
       "      <td>[deleted]</td>\n",
       "      <td>0</td>\n",
       "    </tr>\n",
       "    <tr>\n",
       "      <th>4</th>\n",
       "      <td>kendrick lamar. he's like a poverty lupe fiasc...</td>\n",
       "      <td>['purrppassion']</td>\n",
       "      <td>0</td>\n",
       "      <td>who has the most overrated discography in hip ...</td>\n",
       "      <td>33</td>\n",
       "      <td>33</td>\n",
       "      <td>mr2good4you</td>\n",
       "      <td>0</td>\n",
       "    </tr>\n",
       "  </tbody>\n",
       "</table>\n",
       "</div>"
      ],
      "text/plain": [
       "                                                text            author  \\\n",
       "0  Big deal. He once fought in the Napoleonic war...      ['RecQuery']   \n",
       "1  I don't think the animal cares, either way, it...        ['N4N4KI']   \n",
       "2  &GT; IT'S FAIRLY OBVIOUS YOU HAVE AN AGENDA HE...    ['cometparty']   \n",
       "3  It's probably due to their skin looking supple...     ['[deleted]']   \n",
       "4  kendrick lamar. he's like a poverty lupe fiasc...  ['purrppassion']   \n",
       "\n",
       "   controversiality                                        parent_text  \\\n",
       "0                 0  Big deal. He was once shot with three arrows a...   \n",
       "1                 0  Animal cruelty is not a joke.  It is not the s...   \n",
       "2                 0  &gt;**You people** have time and time again sh...   \n",
       "3                 0  I like women who are either naturally tan or a...   \n",
       "4                 0  who has the most overrated discography in hip ...   \n",
       "\n",
       "   parent_score  parent_votes       parent_author  parent_controversiality  \n",
       "0           438           438  illchopyourfaceoff                        0  \n",
       "1            38            38                 0_o                        0  \n",
       "2            16            16           [deleted]                        0  \n",
       "3           902           902           [deleted]                        0  \n",
       "4            33            33         mr2good4you                        0  "
      ]
     },
     "execution_count": 53,
     "metadata": {},
     "output_type": "execute_result"
    }
   ],
   "source": [
    "df = pd.read_csv(r'C:\\Users\\91708\\Downloads\\Train_Data.csv')\n",
    "df = pd.read_csv(r'C:\\Users\\91708\\Downloads\\Test_Data.csv')\n",
    "df.head()"
   ]
  },
  {
   "cell_type": "code",
   "execution_count": 54,
   "id": "9e40f53c",
   "metadata": {},
   "outputs": [
    {
     "name": "stdout",
     "output_type": "stream",
     "text": [
      "<class 'pandas.core.frame.DataFrame'>\n",
      "RangeIndex: 1015 entries, 0 to 1014\n",
      "Data columns (total 8 columns):\n",
      " #   Column                   Non-Null Count  Dtype \n",
      "---  ------                   --------------  ----- \n",
      " 0   text                     1015 non-null   object\n",
      " 1   author                   1015 non-null   object\n",
      " 2   controversiality         1015 non-null   int64 \n",
      " 3   parent_text              1015 non-null   object\n",
      " 4   parent_score             1015 non-null   int64 \n",
      " 5   parent_votes             1015 non-null   int64 \n",
      " 6   parent_author            1015 non-null   object\n",
      " 7   parent_controversiality  1015 non-null   int64 \n",
      "dtypes: int64(4), object(4)\n",
      "memory usage: 63.6+ KB\n"
     ]
    }
   ],
   "source": [
    "df.info()"
   ]
  },
  {
   "cell_type": "code",
   "execution_count": 55,
   "id": "1405d847",
   "metadata": {},
   "outputs": [
    {
     "data": {
      "text/plain": [
       "0    1015\n",
       "Name: parent_controversiality, dtype: int64"
      ]
     },
     "execution_count": 55,
     "metadata": {},
     "output_type": "execute_result"
    }
   ],
   "source": [
    "df['parent_controversiality'].value_counts()"
   ]
  },
  {
   "cell_type": "code",
   "execution_count": 56,
   "id": "3c13c654",
   "metadata": {},
   "outputs": [
    {
     "data": {
      "text/plain": [
       "8      24\n",
       "13     19\n",
       "10     19\n",
       "7      19\n",
       "3      19\n",
       "       ..\n",
       "645     1\n",
       "430     1\n",
       "516     1\n",
       "199     1\n",
       "765     1\n",
       "Name: parent_score, Length: 436, dtype: int64"
      ]
     },
     "execution_count": 56,
     "metadata": {},
     "output_type": "execute_result"
    }
   ],
   "source": [
    "df['parent_score'].value_counts()"
   ]
  },
  {
   "cell_type": "code",
   "execution_count": 57,
   "id": "8b3669a1",
   "metadata": {},
   "outputs": [
    {
     "data": {
      "text/plain": [
       "8      24\n",
       "13     19\n",
       "10     19\n",
       "7      19\n",
       "3      19\n",
       "       ..\n",
       "645     1\n",
       "430     1\n",
       "516     1\n",
       "199     1\n",
       "765     1\n",
       "Name: parent_votes, Length: 436, dtype: int64"
      ]
     },
     "execution_count": 57,
     "metadata": {},
     "output_type": "execute_result"
    }
   ],
   "source": [
    "df['parent_votes'].value_counts()"
   ]
  },
  {
   "cell_type": "markdown",
   "id": "e40a8012",
   "metadata": {},
   "source": [
    "- parent_score and parent_votes both are same column so drop 'parent_score'\n",
    "- Drop unnecessary column"
   ]
  },
  {
   "cell_type": "code",
   "execution_count": 58,
   "id": "5f340583",
   "metadata": {},
   "outputs": [
    {
     "data": {
      "text/html": [
       "<div>\n",
       "<style scoped>\n",
       "    .dataframe tbody tr th:only-of-type {\n",
       "        vertical-align: middle;\n",
       "    }\n",
       "\n",
       "    .dataframe tbody tr th {\n",
       "        vertical-align: top;\n",
       "    }\n",
       "\n",
       "    .dataframe thead th {\n",
       "        text-align: right;\n",
       "    }\n",
       "</style>\n",
       "<table border=\"1\" class=\"dataframe\">\n",
       "  <thead>\n",
       "    <tr style=\"text-align: right;\">\n",
       "      <th></th>\n",
       "      <th>text</th>\n",
       "      <th>author</th>\n",
       "      <th>controversiality</th>\n",
       "      <th>parent_text</th>\n",
       "      <th>parent_votes</th>\n",
       "      <th>parent_author</th>\n",
       "      <th>parent_controversiality</th>\n",
       "    </tr>\n",
       "  </thead>\n",
       "  <tbody>\n",
       "    <tr>\n",
       "      <th>0</th>\n",
       "      <td>Big deal. He once fought in the Napoleonic war...</td>\n",
       "      <td>['RecQuery']</td>\n",
       "      <td>0</td>\n",
       "      <td>Big deal. He was once shot with three arrows a...</td>\n",
       "      <td>438</td>\n",
       "      <td>illchopyourfaceoff</td>\n",
       "      <td>0</td>\n",
       "    </tr>\n",
       "    <tr>\n",
       "      <th>1</th>\n",
       "      <td>I don't think the animal cares, either way, it...</td>\n",
       "      <td>['N4N4KI']</td>\n",
       "      <td>0</td>\n",
       "      <td>Animal cruelty is not a joke.  It is not the s...</td>\n",
       "      <td>38</td>\n",
       "      <td>0_o</td>\n",
       "      <td>0</td>\n",
       "    </tr>\n",
       "    <tr>\n",
       "      <th>2</th>\n",
       "      <td>&amp;GT; IT'S FAIRLY OBVIOUS YOU HAVE AN AGENDA HE...</td>\n",
       "      <td>['cometparty']</td>\n",
       "      <td>0</td>\n",
       "      <td>&amp;gt;**You people** have time and time again sh...</td>\n",
       "      <td>16</td>\n",
       "      <td>[deleted]</td>\n",
       "      <td>0</td>\n",
       "    </tr>\n",
       "    <tr>\n",
       "      <th>3</th>\n",
       "      <td>It's probably due to their skin looking supple...</td>\n",
       "      <td>['[deleted]']</td>\n",
       "      <td>0</td>\n",
       "      <td>I like women who are either naturally tan or a...</td>\n",
       "      <td>902</td>\n",
       "      <td>[deleted]</td>\n",
       "      <td>0</td>\n",
       "    </tr>\n",
       "    <tr>\n",
       "      <th>4</th>\n",
       "      <td>kendrick lamar. he's like a poverty lupe fiasc...</td>\n",
       "      <td>['purrppassion']</td>\n",
       "      <td>0</td>\n",
       "      <td>who has the most overrated discography in hip ...</td>\n",
       "      <td>33</td>\n",
       "      <td>mr2good4you</td>\n",
       "      <td>0</td>\n",
       "    </tr>\n",
       "  </tbody>\n",
       "</table>\n",
       "</div>"
      ],
      "text/plain": [
       "                                                text            author  \\\n",
       "0  Big deal. He once fought in the Napoleonic war...      ['RecQuery']   \n",
       "1  I don't think the animal cares, either way, it...        ['N4N4KI']   \n",
       "2  &GT; IT'S FAIRLY OBVIOUS YOU HAVE AN AGENDA HE...    ['cometparty']   \n",
       "3  It's probably due to their skin looking supple...     ['[deleted]']   \n",
       "4  kendrick lamar. he's like a poverty lupe fiasc...  ['purrppassion']   \n",
       "\n",
       "   controversiality                                        parent_text  \\\n",
       "0                 0  Big deal. He was once shot with three arrows a...   \n",
       "1                 0  Animal cruelty is not a joke.  It is not the s...   \n",
       "2                 0  &gt;**You people** have time and time again sh...   \n",
       "3                 0  I like women who are either naturally tan or a...   \n",
       "4                 0  who has the most overrated discography in hip ...   \n",
       "\n",
       "   parent_votes       parent_author  parent_controversiality  \n",
       "0           438  illchopyourfaceoff                        0  \n",
       "1            38                 0_o                        0  \n",
       "2            16           [deleted]                        0  \n",
       "3           902           [deleted]                        0  \n",
       "4            33         mr2good4you                        0  "
      ]
     },
     "execution_count": 58,
     "metadata": {},
     "output_type": "execute_result"
    }
   ],
   "source": [
    "df = df.drop(['parent_score'], axis=1)\n",
    "df.head()"
   ]
  },
  {
   "cell_type": "code",
   "execution_count": 59,
   "id": "58b488f1",
   "metadata": {},
   "outputs": [
    {
     "data": {
      "text/plain": [
       "0    1013\n",
       "1       2\n",
       "Name: controversiality, dtype: int64"
      ]
     },
     "execution_count": 59,
     "metadata": {},
     "output_type": "execute_result"
    }
   ],
   "source": [
    "df['controversiality'].value_counts()"
   ]
  },
  {
   "cell_type": "code",
   "execution_count": 60,
   "id": "66eec0f6",
   "metadata": {},
   "outputs": [
    {
     "data": {
      "image/png": "[encoded data removed]",
      "text/plain": [
       "<Figure size 640x480 with 2 Axes>"
      ]
     },
     "metadata": {},
     "output_type": "display_data"
    }
   ],
   "source": [
    "sns.heatmap(df.corr(), annot=True)\n",
    "plt.show()"
   ]
  },
  {
   "cell_type": "code",
   "execution_count": 61,
   "id": "4da3719d",
   "metadata": {},
   "outputs": [
    {
     "data": {
      "text/html": [
       "<div>\n",
       "<style scoped>\n",
       "    .dataframe tbody tr th:only-of-type {\n",
       "        vertical-align: middle;\n",
       "    }\n",
       "\n",
       "    .dataframe tbody tr th {\n",
       "        vertical-align: top;\n",
       "    }\n",
       "\n",
       "    .dataframe thead th {\n",
       "        text-align: right;\n",
       "    }\n",
       "</style>\n",
       "<table border=\"1\" class=\"dataframe\">\n",
       "  <thead>\n",
       "    <tr style=\"text-align: right;\">\n",
       "      <th></th>\n",
       "      <th>text</th>\n",
       "      <th>author</th>\n",
       "      <th>controversiality</th>\n",
       "      <th>parent_text</th>\n",
       "      <th>parent_votes</th>\n",
       "      <th>parent_author</th>\n",
       "      <th>parent_controversiality</th>\n",
       "    </tr>\n",
       "  </thead>\n",
       "  <tbody>\n",
       "    <tr>\n",
       "      <th>0</th>\n",
       "      <td>big deal. he once fought in the napoleonic war...</td>\n",
       "      <td>['recquery']</td>\n",
       "      <td>0</td>\n",
       "      <td>big deal. he was once shot with three arrows a...</td>\n",
       "      <td>438</td>\n",
       "      <td>illchopyourfaceoff</td>\n",
       "      <td>0</td>\n",
       "    </tr>\n",
       "    <tr>\n",
       "      <th>1</th>\n",
       "      <td>i don't think the animal cares, either way, it...</td>\n",
       "      <td>['n4n4ki']</td>\n",
       "      <td>0</td>\n",
       "      <td>animal cruelty is not a joke.  it is not the s...</td>\n",
       "      <td>38</td>\n",
       "      <td>0_o</td>\n",
       "      <td>0</td>\n",
       "    </tr>\n",
       "    <tr>\n",
       "      <th>2</th>\n",
       "      <td>&amp;gt; it's fairly obvious you have an agenda he...</td>\n",
       "      <td>['cometparty']</td>\n",
       "      <td>0</td>\n",
       "      <td>&amp;gt;**you people** have time and time again sh...</td>\n",
       "      <td>16</td>\n",
       "      <td>[deleted]</td>\n",
       "      <td>0</td>\n",
       "    </tr>\n",
       "    <tr>\n",
       "      <th>3</th>\n",
       "      <td>it's probably due to their skin looking supple...</td>\n",
       "      <td>['[deleted]']</td>\n",
       "      <td>0</td>\n",
       "      <td>i like women who are either naturally tan or a...</td>\n",
       "      <td>902</td>\n",
       "      <td>[deleted]</td>\n",
       "      <td>0</td>\n",
       "    </tr>\n",
       "    <tr>\n",
       "      <th>4</th>\n",
       "      <td>kendrick lamar. he's like a poverty lupe fiasc...</td>\n",
       "      <td>['purrppassion']</td>\n",
       "      <td>0</td>\n",
       "      <td>who has the most overrated discography in hip ...</td>\n",
       "      <td>33</td>\n",
       "      <td>mr2good4you</td>\n",
       "      <td>0</td>\n",
       "    </tr>\n",
       "  </tbody>\n",
       "</table>\n",
       "</div>"
      ],
      "text/plain": [
       "                                                text            author  \\\n",
       "0  big deal. he once fought in the napoleonic war...      ['recquery']   \n",
       "1  i don't think the animal cares, either way, it...        ['n4n4ki']   \n",
       "2  &gt; it's fairly obvious you have an agenda he...    ['cometparty']   \n",
       "3  it's probably due to their skin looking supple...     ['[deleted]']   \n",
       "4  kendrick lamar. he's like a poverty lupe fiasc...  ['purrppassion']   \n",
       "\n",
       "   controversiality                                        parent_text  \\\n",
       "0                 0  big deal. he was once shot with three arrows a...   \n",
       "1                 0  animal cruelty is not a joke.  it is not the s...   \n",
       "2                 0  &gt;**you people** have time and time again sh...   \n",
       "3                 0  i like women who are either naturally tan or a...   \n",
       "4                 0  who has the most overrated discography in hip ...   \n",
       "\n",
       "   parent_votes       parent_author  parent_controversiality  \n",
       "0           438  illchopyourfaceoff                        0  \n",
       "1            38                 0_o                        0  \n",
       "2            16           [deleted]                        0  \n",
       "3           902           [deleted]                        0  \n",
       "4            33         mr2good4you                        0  "
      ]
     },
     "execution_count": 61,
     "metadata": {},
     "output_type": "execute_result"
    }
   ],
   "source": [
    "# Transfer category values to be lowercased & remove leading and trailing whitespaces\n",
    "categorical_cols = ['text','author','parent_text','parent_author']\n",
    "for col in df[categorical_cols]:\n",
    "    df[col] = df[col].str.lower()\n",
    "    df[col] = df[col].str.strip()\n",
    "df.head()"
   ]
  },
  {
   "cell_type": "markdown",
   "id": "7bf20bde",
   "metadata": {},
   "source": [
    "### Remove all punctuations"
   ]
  },
  {
   "cell_type": "code",
   "execution_count": 62,
   "id": "0b6d98c4",
   "metadata": {},
   "outputs": [
    {
     "data": {
      "text/plain": [
       "'!\"#$%&\\'()*+,-./:;<=>?@[\\\\]^_`{|}~'"
      ]
     },
     "execution_count": 62,
     "metadata": {},
     "output_type": "execute_result"
    }
   ],
   "source": [
    "import string\n",
    "eng_punct= string.punctuation\n",
    "eng_punct"
   ]
  },
  {
   "cell_type": "code",
   "execution_count": 63,
   "id": "7319213a",
   "metadata": {},
   "outputs": [
    {
     "data": {
      "text/html": [
       "<div>\n",
       "<style scoped>\n",
       "    .dataframe tbody tr th:only-of-type {\n",
       "        vertical-align: middle;\n",
       "    }\n",
       "\n",
       "    .dataframe tbody tr th {\n",
       "        vertical-align: top;\n",
       "    }\n",
       "\n",
       "    .dataframe thead th {\n",
       "        text-align: right;\n",
       "    }\n",
       "</style>\n",
       "<table border=\"1\" class=\"dataframe\">\n",
       "  <thead>\n",
       "    <tr style=\"text-align: right;\">\n",
       "      <th></th>\n",
       "      <th>text</th>\n",
       "      <th>author</th>\n",
       "      <th>controversiality</th>\n",
       "      <th>parent_text</th>\n",
       "      <th>parent_votes</th>\n",
       "      <th>parent_author</th>\n",
       "      <th>parent_controversiality</th>\n",
       "    </tr>\n",
       "  </thead>\n",
       "  <tbody>\n",
       "    <tr>\n",
       "      <th>0</th>\n",
       "      <td>big deal he once fought in the napoleonic wars...</td>\n",
       "      <td>recquery</td>\n",
       "      <td>0</td>\n",
       "      <td>big deal he was once shot with three arrows an...</td>\n",
       "      <td>438</td>\n",
       "      <td>illchopyourfaceoff</td>\n",
       "      <td>0</td>\n",
       "    </tr>\n",
       "    <tr>\n",
       "      <th>1</th>\n",
       "      <td>i dont think the animal cares either way its dead</td>\n",
       "      <td>n4n4ki</td>\n",
       "      <td>0</td>\n",
       "      <td>animal cruelty is not a joke  it is not the sa...</td>\n",
       "      <td>38</td>\n",
       "      <td>0o</td>\n",
       "      <td>0</td>\n",
       "    </tr>\n",
       "    <tr>\n",
       "      <th>2</th>\n",
       "      <td>gt its fairly obvious you have an agenda here\\...</td>\n",
       "      <td>cometparty</td>\n",
       "      <td>0</td>\n",
       "      <td>gtyou people have time and time again shown yo...</td>\n",
       "      <td>16</td>\n",
       "      <td>deleted</td>\n",
       "      <td>0</td>\n",
       "    </tr>\n",
       "    <tr>\n",
       "      <th>3</th>\n",
       "      <td>its probably due to their skin looking supple ...</td>\n",
       "      <td>deleted</td>\n",
       "      <td>0</td>\n",
       "      <td>i like women who are either naturally tan or a...</td>\n",
       "      <td>902</td>\n",
       "      <td>deleted</td>\n",
       "      <td>0</td>\n",
       "    </tr>\n",
       "    <tr>\n",
       "      <th>4</th>\n",
       "      <td>kendrick lamar hes like a poverty lupe fiasco ...</td>\n",
       "      <td>purrppassion</td>\n",
       "      <td>0</td>\n",
       "      <td>who has the most overrated discography in hip hop</td>\n",
       "      <td>33</td>\n",
       "      <td>mr2good4you</td>\n",
       "      <td>0</td>\n",
       "    </tr>\n",
       "  </tbody>\n",
       "</table>\n",
       "</div>"
      ],
      "text/plain": [
       "                                                text        author  \\\n",
       "0  big deal he once fought in the napoleonic wars...      recquery   \n",
       "1  i dont think the animal cares either way its dead        n4n4ki   \n",
       "2  gt its fairly obvious you have an agenda here\\...    cometparty   \n",
       "3  its probably due to their skin looking supple ...       deleted   \n",
       "4  kendrick lamar hes like a poverty lupe fiasco ...  purrppassion   \n",
       "\n",
       "   controversiality                                        parent_text  \\\n",
       "0                 0  big deal he was once shot with three arrows an...   \n",
       "1                 0  animal cruelty is not a joke  it is not the sa...   \n",
       "2                 0  gtyou people have time and time again shown yo...   \n",
       "3                 0  i like women who are either naturally tan or a...   \n",
       "4                 0  who has the most overrated discography in hip hop   \n",
       "\n",
       "   parent_votes       parent_author  parent_controversiality  \n",
       "0           438  illchopyourfaceoff                        0  \n",
       "1            38                  0o                        0  \n",
       "2            16             deleted                        0  \n",
       "3           902             deleted                        0  \n",
       "4            33         mr2good4you                        0  "
      ]
     },
     "execution_count": 63,
     "metadata": {},
     "output_type": "execute_result"
    }
   ],
   "source": [
    "for col in df[categorical_cols]:\n",
    "    df[col] = df[col].apply(lambda x:''.join([i for i in x if i not in eng_punct]))\n",
    "df.head()"
   ]
  },
  {
   "cell_type": "code",
   "execution_count": 64,
   "id": "2e281f42",
   "metadata": {},
   "outputs": [
    {
     "name": "stderr",
     "output_type": "stream",
     "text": [
      "[nltk_data] Downloading package stopwords to\n",
      "[nltk_data]     C:\\Users\\91708\\AppData\\Roaming\\nltk_data...\n",
      "[nltk_data]   Package stopwords is already up-to-date!\n",
      "[nltk_data] Downloading package punkt to\n",
      "[nltk_data]     C:\\Users\\91708\\AppData\\Roaming\\nltk_data...\n",
      "[nltk_data]   Package punkt is already up-to-date!\n"
     ]
    }
   ],
   "source": [
    "import nltk\n",
    "from nltk.corpus import stopwords\n",
    "nltk.download('stopwords')\n",
    "nltk.download('punkt')\n",
    "from nltk.tokenize import word_tokenize \n"
   ]
  },
  {
   "cell_type": "code",
   "execution_count": 65,
   "id": "d365c8a4",
   "metadata": {},
   "outputs": [
    {
     "data": {
      "text/html": [
       "<div>\n",
       "<style scoped>\n",
       "    .dataframe tbody tr th:only-of-type {\n",
       "        vertical-align: middle;\n",
       "    }\n",
       "\n",
       "    .dataframe tbody tr th {\n",
       "        vertical-align: top;\n",
       "    }\n",
       "\n",
       "    .dataframe thead th {\n",
       "        text-align: right;\n",
       "    }\n",
       "</style>\n",
       "<table border=\"1\" class=\"dataframe\">\n",
       "  <thead>\n",
       "    <tr style=\"text-align: right;\">\n",
       "      <th></th>\n",
       "      <th>text</th>\n",
       "      <th>author</th>\n",
       "      <th>controversiality</th>\n",
       "      <th>parent_text</th>\n",
       "      <th>parent_votes</th>\n",
       "      <th>parent_author</th>\n",
       "      <th>parent_controversiality</th>\n",
       "      <th>text_tokens</th>\n",
       "      <th>parent_text_tokens</th>\n",
       "    </tr>\n",
       "  </thead>\n",
       "  <tbody>\n",
       "    <tr>\n",
       "      <th>0</th>\n",
       "      <td>big deal he once fought in the napoleonic wars...</td>\n",
       "      <td>recquery</td>\n",
       "      <td>0</td>\n",
       "      <td>big deal he was once shot with three arrows an...</td>\n",
       "      <td>438</td>\n",
       "      <td>illchopyourfaceoff</td>\n",
       "      <td>0</td>\n",
       "      <td>[big, deal, he, once, fought, in, the, napoleo...</td>\n",
       "      <td>[big, deal, he, was, once, shot, with, three, ...</td>\n",
       "    </tr>\n",
       "    <tr>\n",
       "      <th>1</th>\n",
       "      <td>i dont think the animal cares either way its dead</td>\n",
       "      <td>n4n4ki</td>\n",
       "      <td>0</td>\n",
       "      <td>animal cruelty is not a joke  it is not the sa...</td>\n",
       "      <td>38</td>\n",
       "      <td>0o</td>\n",
       "      <td>0</td>\n",
       "      <td>[i, dont, think, the, animal, cares, either, w...</td>\n",
       "      <td>[animal, cruelty, is, not, a, joke, it, is, no...</td>\n",
       "    </tr>\n",
       "    <tr>\n",
       "      <th>2</th>\n",
       "      <td>gt its fairly obvious you have an agenda here\\...</td>\n",
       "      <td>cometparty</td>\n",
       "      <td>0</td>\n",
       "      <td>gtyou people have time and time again shown yo...</td>\n",
       "      <td>16</td>\n",
       "      <td>deleted</td>\n",
       "      <td>0</td>\n",
       "      <td>[gt, its, fairly, obvious, you, have, an, agen...</td>\n",
       "      <td>[gtyou, people, have, time, and, time, again, ...</td>\n",
       "    </tr>\n",
       "    <tr>\n",
       "      <th>3</th>\n",
       "      <td>its probably due to their skin looking supple ...</td>\n",
       "      <td>deleted</td>\n",
       "      <td>0</td>\n",
       "      <td>i like women who are either naturally tan or a...</td>\n",
       "      <td>902</td>\n",
       "      <td>deleted</td>\n",
       "      <td>0</td>\n",
       "      <td>[its, probably, due, to, their, skin, looking,...</td>\n",
       "      <td>[i, like, women, who, are, either, naturally, ...</td>\n",
       "    </tr>\n",
       "    <tr>\n",
       "      <th>4</th>\n",
       "      <td>kendrick lamar hes like a poverty lupe fiasco ...</td>\n",
       "      <td>purrppassion</td>\n",
       "      <td>0</td>\n",
       "      <td>who has the most overrated discography in hip hop</td>\n",
       "      <td>33</td>\n",
       "      <td>mr2good4you</td>\n",
       "      <td>0</td>\n",
       "      <td>[kendrick, lamar, hes, like, a, poverty, lupe,...</td>\n",
       "      <td>[who, has, the, most, overrated, discography, ...</td>\n",
       "    </tr>\n",
       "  </tbody>\n",
       "</table>\n",
       "</div>"
      ],
      "text/plain": [
       "                                                text        author  \\\n",
       "0  big deal he once fought in the napoleonic wars...      recquery   \n",
       "1  i dont think the animal cares either way its dead        n4n4ki   \n",
       "2  gt its fairly obvious you have an agenda here\\...    cometparty   \n",
       "3  its probably due to their skin looking supple ...       deleted   \n",
       "4  kendrick lamar hes like a poverty lupe fiasco ...  purrppassion   \n",
       "\n",
       "   controversiality                                        parent_text  \\\n",
       "0                 0  big deal he was once shot with three arrows an...   \n",
       "1                 0  animal cruelty is not a joke  it is not the sa...   \n",
       "2                 0  gtyou people have time and time again shown yo...   \n",
       "3                 0  i like women who are either naturally tan or a...   \n",
       "4                 0  who has the most overrated discography in hip hop   \n",
       "\n",
       "   parent_votes       parent_author  parent_controversiality  \\\n",
       "0           438  illchopyourfaceoff                        0   \n",
       "1            38                  0o                        0   \n",
       "2            16             deleted                        0   \n",
       "3           902             deleted                        0   \n",
       "4            33         mr2good4you                        0   \n",
       "\n",
       "                                         text_tokens  \\\n",
       "0  [big, deal, he, once, fought, in, the, napoleo...   \n",
       "1  [i, dont, think, the, animal, cares, either, w...   \n",
       "2  [gt, its, fairly, obvious, you, have, an, agen...   \n",
       "3  [its, probably, due, to, their, skin, looking,...   \n",
       "4  [kendrick, lamar, hes, like, a, poverty, lupe,...   \n",
       "\n",
       "                                  parent_text_tokens  \n",
       "0  [big, deal, he, was, once, shot, with, three, ...  \n",
       "1  [animal, cruelty, is, not, a, joke, it, is, no...  \n",
       "2  [gtyou, people, have, time, and, time, again, ...  \n",
       "3  [i, like, women, who, are, either, naturally, ...  \n",
       "4  [who, has, the, most, overrated, discography, ...  "
      ]
     },
     "execution_count": 65,
     "metadata": {},
     "output_type": "execute_result"
    }
   ],
   "source": [
    "def text_tokens(row):\n",
    "    text = row['text']\n",
    "    tokens = word_tokenize(text)\n",
    "    # taken only words (not punctuation)\n",
    "    token_words = [w for w in tokens if w.isalpha()]\n",
    "    return token_words\n",
    "df['text_tokens'] = df.apply(text_tokens, axis=1)\n",
    "\n",
    "def parent_text_tokens(row):\n",
    "    parent_text = row['parent_text']\n",
    "    tokens = word_tokenize(parent_text)\n",
    "    # taken only words (not punctuation)\n",
    "    token_words = [w for w in tokens if w.isalpha()]\n",
    "    return token_words\n",
    "df['parent_text_tokens'] = df.apply(parent_text_tokens, axis=1)\n",
    "\n",
    "df.head()"
   ]
  },
  {
   "cell_type": "markdown",
   "id": "551ec968",
   "metadata": {},
   "source": [
    "#### stop word removal"
   ]
  },
  {
   "cell_type": "code",
   "execution_count": 66,
   "id": "3d26f406",
   "metadata": {},
   "outputs": [
    {
     "data": {
      "text/html": [
       "<div>\n",
       "<style scoped>\n",
       "    .dataframe tbody tr th:only-of-type {\n",
       "        vertical-align: middle;\n",
       "    }\n",
       "\n",
       "    .dataframe tbody tr th {\n",
       "        vertical-align: top;\n",
       "    }\n",
       "\n",
       "    .dataframe thead th {\n",
       "        text-align: right;\n",
       "    }\n",
       "</style>\n",
       "<table border=\"1\" class=\"dataframe\">\n",
       "  <thead>\n",
       "    <tr style=\"text-align: right;\">\n",
       "      <th></th>\n",
       "      <th>text</th>\n",
       "      <th>author</th>\n",
       "      <th>controversiality</th>\n",
       "      <th>parent_text</th>\n",
       "      <th>parent_votes</th>\n",
       "      <th>parent_author</th>\n",
       "      <th>parent_controversiality</th>\n",
       "      <th>text_tokens</th>\n",
       "      <th>parent_text_tokens</th>\n",
       "    </tr>\n",
       "  </thead>\n",
       "  <tbody>\n",
       "    <tr>\n",
       "      <th>0</th>\n",
       "      <td>big deal he once fought in the napoleonic wars...</td>\n",
       "      <td>recquery</td>\n",
       "      <td>0</td>\n",
       "      <td>big deal he was once shot with three arrows an...</td>\n",
       "      <td>438</td>\n",
       "      <td>illchopyourfaceoff</td>\n",
       "      <td>0</td>\n",
       "      <td>big deal fought napoleonic wars practically im...</td>\n",
       "      <td>big deal shot three arrows kept defending midg...</td>\n",
       "    </tr>\n",
       "    <tr>\n",
       "      <th>1</th>\n",
       "      <td>i dont think the animal cares either way its dead</td>\n",
       "      <td>n4n4ki</td>\n",
       "      <td>0</td>\n",
       "      <td>animal cruelty is not a joke  it is not the sa...</td>\n",
       "      <td>38</td>\n",
       "      <td>0o</td>\n",
       "      <td>0</td>\n",
       "      <td>dont think animal cares either way dead</td>\n",
       "      <td>animal cruelty joke kill something intent eat ...</td>\n",
       "    </tr>\n",
       "    <tr>\n",
       "      <th>2</th>\n",
       "      <td>gt its fairly obvious you have an agenda here\\...</td>\n",
       "      <td>cometparty</td>\n",
       "      <td>0</td>\n",
       "      <td>gtyou people have time and time again shown yo...</td>\n",
       "      <td>16</td>\n",
       "      <td>deleted</td>\n",
       "      <td>0</td>\n",
       "      <td>gt fairly obvious agenda right agenda prevent ...</td>\n",
       "      <td>gtyou people time time shown confused parties ...</td>\n",
       "    </tr>\n",
       "    <tr>\n",
       "      <th>3</th>\n",
       "      <td>its probably due to their skin looking supple ...</td>\n",
       "      <td>deleted</td>\n",
       "      <td>0</td>\n",
       "      <td>i like women who are either naturally tan or a...</td>\n",
       "      <td>902</td>\n",
       "      <td>deleted</td>\n",
       "      <td>0</td>\n",
       "      <td>probably due skin looking supple like tanned l...</td>\n",
       "      <td>like women either naturally tan really pale so...</td>\n",
       "    </tr>\n",
       "    <tr>\n",
       "      <th>4</th>\n",
       "      <td>kendrick lamar hes like a poverty lupe fiasco ...</td>\n",
       "      <td>purrppassion</td>\n",
       "      <td>0</td>\n",
       "      <td>who has the most overrated discography in hip hop</td>\n",
       "      <td>33</td>\n",
       "      <td>mr2good4you</td>\n",
       "      <td>0</td>\n",
       "      <td>kendrick lamar hes like poverty lupe fiasco be...</td>\n",
       "      <td>overrated discography hip hop</td>\n",
       "    </tr>\n",
       "  </tbody>\n",
       "</table>\n",
       "</div>"
      ],
      "text/plain": [
       "                                                text        author  \\\n",
       "0  big deal he once fought in the napoleonic wars...      recquery   \n",
       "1  i dont think the animal cares either way its dead        n4n4ki   \n",
       "2  gt its fairly obvious you have an agenda here\\...    cometparty   \n",
       "3  its probably due to their skin looking supple ...       deleted   \n",
       "4  kendrick lamar hes like a poverty lupe fiasco ...  purrppassion   \n",
       "\n",
       "   controversiality                                        parent_text  \\\n",
       "0                 0  big deal he was once shot with three arrows an...   \n",
       "1                 0  animal cruelty is not a joke  it is not the sa...   \n",
       "2                 0  gtyou people have time and time again shown yo...   \n",
       "3                 0  i like women who are either naturally tan or a...   \n",
       "4                 0  who has the most overrated discography in hip hop   \n",
       "\n",
       "   parent_votes       parent_author  parent_controversiality  \\\n",
       "0           438  illchopyourfaceoff                        0   \n",
       "1            38                  0o                        0   \n",
       "2            16             deleted                        0   \n",
       "3           902             deleted                        0   \n",
       "4            33         mr2good4you                        0   \n",
       "\n",
       "                                         text_tokens  \\\n",
       "0  big deal fought napoleonic wars practically im...   \n",
       "1            dont think animal cares either way dead   \n",
       "2  gt fairly obvious agenda right agenda prevent ...   \n",
       "3  probably due skin looking supple like tanned l...   \n",
       "4  kendrick lamar hes like poverty lupe fiasco be...   \n",
       "\n",
       "                                  parent_text_tokens  \n",
       "0  big deal shot three arrows kept defending midg...  \n",
       "1  animal cruelty joke kill something intent eat ...  \n",
       "2  gtyou people time time shown confused parties ...  \n",
       "3  like women either naturally tan really pale so...  \n",
       "4                      overrated discography hip hop  "
      ]
     },
     "execution_count": 66,
     "metadata": {},
     "output_type": "execute_result"
    }
   ],
   "source": [
    "stop_words = stopwords.words('english')\n",
    "\n",
    "tokens_cols = ['text_tokens','parent_text_tokens']\n",
    "\n",
    "for col in tokens_cols:\n",
    "    df[col] = df[col].apply(lambda x: ' '.join([w for w in x if w not in (stop_words)]))\n",
    "df.head()"
   ]
  },
  {
   "cell_type": "markdown",
   "id": "2357a84e",
   "metadata": {},
   "source": [
    "#### normalization - lemmatizing"
   ]
  },
  {
   "cell_type": "code",
   "execution_count": 67,
   "id": "1c238473",
   "metadata": {},
   "outputs": [
    {
     "name": "stderr",
     "output_type": "stream",
     "text": [
      "[nltk_data] Downloading package omw-1.4 to\n",
      "[nltk_data]     C:\\Users\\91708\\AppData\\Roaming\\nltk_data...\n",
      "[nltk_data]   Package omw-1.4 is already up-to-date!\n"
     ]
    },
    {
     "data": {
      "text/plain": [
       "True"
      ]
     },
     "execution_count": 67,
     "metadata": {},
     "output_type": "execute_result"
    }
   ],
   "source": [
    "import nltk\n",
    "nltk.download('omw-1.4')"
   ]
  },
  {
   "cell_type": "code",
   "execution_count": 68,
   "id": "a2ce68ee",
   "metadata": {},
   "outputs": [
    {
     "name": "stderr",
     "output_type": "stream",
     "text": [
      "[nltk_data] Downloading package wordnet to\n",
      "[nltk_data]     C:\\Users\\91708\\AppData\\Roaming\\nltk_data...\n",
      "[nltk_data]   Package wordnet is already up-to-date!\n"
     ]
    },
    {
     "data": {
      "text/html": [
       "<div>\n",
       "<style scoped>\n",
       "    .dataframe tbody tr th:only-of-type {\n",
       "        vertical-align: middle;\n",
       "    }\n",
       "\n",
       "    .dataframe tbody tr th {\n",
       "        vertical-align: top;\n",
       "    }\n",
       "\n",
       "    .dataframe thead th {\n",
       "        text-align: right;\n",
       "    }\n",
       "</style>\n",
       "<table border=\"1\" class=\"dataframe\">\n",
       "  <thead>\n",
       "    <tr style=\"text-align: right;\">\n",
       "      <th></th>\n",
       "      <th>text</th>\n",
       "      <th>author</th>\n",
       "      <th>controversiality</th>\n",
       "      <th>parent_text</th>\n",
       "      <th>parent_votes</th>\n",
       "      <th>parent_author</th>\n",
       "      <th>parent_controversiality</th>\n",
       "      <th>text_tokens</th>\n",
       "      <th>parent_text_tokens</th>\n",
       "    </tr>\n",
       "  </thead>\n",
       "  <tbody>\n",
       "    <tr>\n",
       "      <th>0</th>\n",
       "      <td>big deal he once fought in the napoleonic wars...</td>\n",
       "      <td>recquery</td>\n",
       "      <td>0</td>\n",
       "      <td>big deal he was once shot with three arrows an...</td>\n",
       "      <td>438</td>\n",
       "      <td>illchopyourfaceoff</td>\n",
       "      <td>0</td>\n",
       "      <td>[big, deal, fought, napoleonic, war, practical...</td>\n",
       "      <td>[big, deal, shot, three, arrow, kept, defendin...</td>\n",
       "    </tr>\n",
       "    <tr>\n",
       "      <th>1</th>\n",
       "      <td>i dont think the animal cares either way its dead</td>\n",
       "      <td>n4n4ki</td>\n",
       "      <td>0</td>\n",
       "      <td>animal cruelty is not a joke  it is not the sa...</td>\n",
       "      <td>38</td>\n",
       "      <td>0o</td>\n",
       "      <td>0</td>\n",
       "      <td>[dont, think, animal, care, either, way, dead]</td>\n",
       "      <td>[animal, cruelty, joke, kill, something, inten...</td>\n",
       "    </tr>\n",
       "    <tr>\n",
       "      <th>2</th>\n",
       "      <td>gt its fairly obvious you have an agenda here\\...</td>\n",
       "      <td>cometparty</td>\n",
       "      <td>0</td>\n",
       "      <td>gtyou people have time and time again shown yo...</td>\n",
       "      <td>16</td>\n",
       "      <td>deleted</td>\n",
       "      <td>0</td>\n",
       "      <td>[gt, fairly, obvious, agenda, right, agenda, p...</td>\n",
       "      <td>[gtyou, people, time, time, shown, confused, p...</td>\n",
       "    </tr>\n",
       "    <tr>\n",
       "      <th>3</th>\n",
       "      <td>its probably due to their skin looking supple ...</td>\n",
       "      <td>deleted</td>\n",
       "      <td>0</td>\n",
       "      <td>i like women who are either naturally tan or a...</td>\n",
       "      <td>902</td>\n",
       "      <td>deleted</td>\n",
       "      <td>0</td>\n",
       "      <td>[probably, due, skin, looking, supple, like, t...</td>\n",
       "      <td>[like, woman, either, naturally, tan, really, ...</td>\n",
       "    </tr>\n",
       "    <tr>\n",
       "      <th>4</th>\n",
       "      <td>kendrick lamar hes like a poverty lupe fiasco ...</td>\n",
       "      <td>purrppassion</td>\n",
       "      <td>0</td>\n",
       "      <td>who has the most overrated discography in hip hop</td>\n",
       "      <td>33</td>\n",
       "      <td>mr2good4you</td>\n",
       "      <td>0</td>\n",
       "      <td>[kendrick, lamar, he, like, poverty, lupe, fia...</td>\n",
       "      <td>[overrated, discography, hip, hop]</td>\n",
       "    </tr>\n",
       "  </tbody>\n",
       "</table>\n",
       "</div>"
      ],
      "text/plain": [
       "                                                text        author  \\\n",
       "0  big deal he once fought in the napoleonic wars...      recquery   \n",
       "1  i dont think the animal cares either way its dead        n4n4ki   \n",
       "2  gt its fairly obvious you have an agenda here\\...    cometparty   \n",
       "3  its probably due to their skin looking supple ...       deleted   \n",
       "4  kendrick lamar hes like a poverty lupe fiasco ...  purrppassion   \n",
       "\n",
       "   controversiality                                        parent_text  \\\n",
       "0                 0  big deal he was once shot with three arrows an...   \n",
       "1                 0  animal cruelty is not a joke  it is not the sa...   \n",
       "2                 0  gtyou people have time and time again shown yo...   \n",
       "3                 0  i like women who are either naturally tan or a...   \n",
       "4                 0  who has the most overrated discography in hip hop   \n",
       "\n",
       "   parent_votes       parent_author  parent_controversiality  \\\n",
       "0           438  illchopyourfaceoff                        0   \n",
       "1            38                  0o                        0   \n",
       "2            16             deleted                        0   \n",
       "3           902             deleted                        0   \n",
       "4            33         mr2good4you                        0   \n",
       "\n",
       "                                         text_tokens  \\\n",
       "0  [big, deal, fought, napoleonic, war, practical...   \n",
       "1     [dont, think, animal, care, either, way, dead]   \n",
       "2  [gt, fairly, obvious, agenda, right, agenda, p...   \n",
       "3  [probably, due, skin, looking, supple, like, t...   \n",
       "4  [kendrick, lamar, he, like, poverty, lupe, fia...   \n",
       "\n",
       "                                  parent_text_tokens  \n",
       "0  [big, deal, shot, three, arrow, kept, defendin...  \n",
       "1  [animal, cruelty, joke, kill, something, inten...  \n",
       "2  [gtyou, people, time, time, shown, confused, p...  \n",
       "3  [like, woman, either, naturally, tan, really, ...  \n",
       "4                 [overrated, discography, hip, hop]  "
      ]
     },
     "execution_count": 68,
     "metadata": {},
     "output_type": "execute_result"
    }
   ],
   "source": [
    "\n",
    "from nltk.stem import WordNetLemmatizer\n",
    "\n",
    "nltk.download('wordnet')\n",
    "lemmatizer = WordNetLemmatizer()\n",
    "lemmatize_function = lambda x: [lemmatizer.lemmatize(str(word)) for word in x.split()]\n",
    "\n",
    "for col in tokens_cols:\n",
    "    df[col] = df[col].apply(lemmatize_function)\n",
    "df.head()"
   ]
  },
  {
   "cell_type": "code",
   "execution_count": null,
   "id": "b7e7c56e",
   "metadata": {},
   "outputs": [],
   "source": []
  },
  {
   "cell_type": "code",
   "execution_count": 69,
   "id": "a745221c",
   "metadata": {},
   "outputs": [
    {
     "data": {
      "text/html": [
       "<div>\n",
       "<style scoped>\n",
       "    .dataframe tbody tr th:only-of-type {\n",
       "        vertical-align: middle;\n",
       "    }\n",
       "\n",
       "    .dataframe tbody tr th {\n",
       "        vertical-align: top;\n",
       "    }\n",
       "\n",
       "    .dataframe thead th {\n",
       "        text-align: right;\n",
       "    }\n",
       "</style>\n",
       "<table border=\"1\" class=\"dataframe\">\n",
       "  <thead>\n",
       "    <tr style=\"text-align: right;\">\n",
       "      <th></th>\n",
       "      <th>text</th>\n",
       "      <th>author</th>\n",
       "      <th>controversiality</th>\n",
       "      <th>parent_text</th>\n",
       "      <th>parent_votes</th>\n",
       "      <th>parent_author</th>\n",
       "      <th>parent_controversiality</th>\n",
       "    </tr>\n",
       "  </thead>\n",
       "  <tbody>\n",
       "    <tr>\n",
       "      <th>0</th>\n",
       "      <td>big deal fought napoleonic war practically imm...</td>\n",
       "      <td>recquery</td>\n",
       "      <td>0</td>\n",
       "      <td>big deal shot three arrow kept defending midge...</td>\n",
       "      <td>438</td>\n",
       "      <td>illchopyourfaceoff</td>\n",
       "      <td>0</td>\n",
       "    </tr>\n",
       "    <tr>\n",
       "      <th>1</th>\n",
       "      <td>dont think animal care either way dead</td>\n",
       "      <td>n4n4ki</td>\n",
       "      <td>0</td>\n",
       "      <td>animal cruelty joke kill something intent eat ...</td>\n",
       "      <td>38</td>\n",
       "      <td>0o</td>\n",
       "      <td>0</td>\n",
       "    </tr>\n",
       "    <tr>\n",
       "      <th>2</th>\n",
       "      <td>gt fairly obvious agenda right agenda prevent ...</td>\n",
       "      <td>cometparty</td>\n",
       "      <td>0</td>\n",
       "      <td>gtyou people time time shown confused party al...</td>\n",
       "      <td>16</td>\n",
       "      <td>deleted</td>\n",
       "      <td>0</td>\n",
       "    </tr>\n",
       "    <tr>\n",
       "      <th>3</th>\n",
       "      <td>probably due skin looking supple like tanned l...</td>\n",
       "      <td>deleted</td>\n",
       "      <td>0</td>\n",
       "      <td>like woman either naturally tan really pale so...</td>\n",
       "      <td>902</td>\n",
       "      <td>deleted</td>\n",
       "      <td>0</td>\n",
       "    </tr>\n",
       "    <tr>\n",
       "      <th>4</th>\n",
       "      <td>kendrick lamar he like poverty lupe fiasco bet...</td>\n",
       "      <td>purrppassion</td>\n",
       "      <td>0</td>\n",
       "      <td>overrated discography hip hop</td>\n",
       "      <td>33</td>\n",
       "      <td>mr2good4you</td>\n",
       "      <td>0</td>\n",
       "    </tr>\n",
       "  </tbody>\n",
       "</table>\n",
       "</div>"
      ],
      "text/plain": [
       "                                                text        author  \\\n",
       "0  big deal fought napoleonic war practically imm...      recquery   \n",
       "1             dont think animal care either way dead        n4n4ki   \n",
       "2  gt fairly obvious agenda right agenda prevent ...    cometparty   \n",
       "3  probably due skin looking supple like tanned l...       deleted   \n",
       "4  kendrick lamar he like poverty lupe fiasco bet...  purrppassion   \n",
       "\n",
       "   controversiality                                        parent_text  \\\n",
       "0                 0  big deal shot three arrow kept defending midge...   \n",
       "1                 0  animal cruelty joke kill something intent eat ...   \n",
       "2                 0  gtyou people time time shown confused party al...   \n",
       "3                 0  like woman either naturally tan really pale so...   \n",
       "4                 0                      overrated discography hip hop   \n",
       "\n",
       "   parent_votes       parent_author  parent_controversiality  \n",
       "0           438  illchopyourfaceoff                        0  \n",
       "1            38                  0o                        0  \n",
       "2            16             deleted                        0  \n",
       "3           902             deleted                        0  \n",
       "4            33         mr2good4you                        0  "
      ]
     },
     "execution_count": 69,
     "metadata": {},
     "output_type": "execute_result"
    }
   ],
   "source": [
    "df['text']= df['text_tokens'].apply(lambda x: ' '.join(x))\n",
    "df['parent_text']= df['parent_text_tokens'].apply(lambda x: ' '.join(x))\n",
    "df.drop(['text_tokens', 'parent_text_tokens'], axis=1, inplace= True)\n",
    "\n",
    "df.head()\n"
   ]
  },
  {
   "cell_type": "markdown",
   "id": "913e765a",
   "metadata": {},
   "source": [
    "#### Vectorize"
   ]
  },
  {
   "cell_type": "code",
   "execution_count": 70,
   "id": "91910107",
   "metadata": {},
   "outputs": [
    {
     "name": "stderr",
     "output_type": "stream",
     "text": [
      "C:\\Users\\91708\\anaconda3\\lib\\site-packages\\sklearn\\utils\\deprecation.py:87: FutureWarning: Function get_feature_names is deprecated; get_feature_names is deprecated in 1.0 and will be removed in 1.2. Please use get_feature_names_out instead.\n",
      "  warnings.warn(msg, category=FutureWarning)\n"
     ]
    },
    {
     "data": {
      "text/plain": [
       "(1015, 5230)"
      ]
     },
     "execution_count": 70,
     "metadata": {},
     "output_type": "execute_result"
    }
   ],
   "source": [
    "\n",
    "from sklearn.feature_extraction.text import CountVectorizer, TfidfVectorizer\n",
    "\n",
    "vectorizer = CountVectorizer()\n",
    "text = vectorizer.fit_transform(df['text']).toarray()\n",
    "text = pd.DataFrame(text, columns=vectorizer.get_feature_names())\n",
    "\n",
    "text.shape"
   ]
  },
  {
   "cell_type": "code",
   "execution_count": 71,
   "id": "f2899bcc",
   "metadata": {},
   "outputs": [
    {
     "name": "stderr",
     "output_type": "stream",
     "text": [
      "C:\\Users\\91708\\anaconda3\\lib\\site-packages\\sklearn\\utils\\deprecation.py:87: FutureWarning: Function get_feature_names is deprecated; get_feature_names is deprecated in 1.0 and will be removed in 1.2. Please use get_feature_names_out instead.\n",
      "  warnings.warn(msg, category=FutureWarning)\n"
     ]
    },
    {
     "data": {
      "text/plain": [
       "(1015, 50)"
      ]
     },
     "execution_count": 71,
     "metadata": {},
     "output_type": "execute_result"
    }
   ],
   "source": [
    "vectorizer1 = TfidfVectorizer(max_features=50,min_df=1,max_df=0.7)\n",
    "text_tf_idf = vectorizer1.fit_transform(df['text']).toarray()\n",
    "text_tf_idf = pd.DataFrame(text_tf_idf, columns=vectorizer1.get_feature_names())\n",
    "\n",
    "text_tf_idf.shape"
   ]
  },
  {
   "cell_type": "code",
   "execution_count": 72,
   "id": "2f7c559e",
   "metadata": {},
   "outputs": [
    {
     "data": {
      "text/html": [
       "<div>\n",
       "<style scoped>\n",
       "    .dataframe tbody tr th:only-of-type {\n",
       "        vertical-align: middle;\n",
       "    }\n",
       "\n",
       "    .dataframe tbody tr th {\n",
       "        vertical-align: top;\n",
       "    }\n",
       "\n",
       "    .dataframe thead th {\n",
       "        text-align: right;\n",
       "    }\n",
       "</style>\n",
       "<table border=\"1\" class=\"dataframe\">\n",
       "  <thead>\n",
       "    <tr style=\"text-align: right;\">\n",
       "      <th></th>\n",
       "      <th>text</th>\n",
       "      <th>author</th>\n",
       "      <th>controversiality</th>\n",
       "      <th>parent_text</th>\n",
       "      <th>parent_votes</th>\n",
       "      <th>parent_author</th>\n",
       "      <th>parent_controversiality</th>\n",
       "    </tr>\n",
       "  </thead>\n",
       "  <tbody>\n",
       "    <tr>\n",
       "      <th>0</th>\n",
       "      <td>big deal fought napoleonic war practically imm...</td>\n",
       "      <td>recquery</td>\n",
       "      <td>0</td>\n",
       "      <td>big deal shot three arrow kept defending midge...</td>\n",
       "      <td>438</td>\n",
       "      <td>illchopyourfaceoff</td>\n",
       "      <td>0</td>\n",
       "    </tr>\n",
       "    <tr>\n",
       "      <th>1</th>\n",
       "      <td>dont think animal care either way dead</td>\n",
       "      <td>n4n4ki</td>\n",
       "      <td>0</td>\n",
       "      <td>animal cruelty joke kill something intent eat ...</td>\n",
       "      <td>38</td>\n",
       "      <td>0o</td>\n",
       "      <td>0</td>\n",
       "    </tr>\n",
       "    <tr>\n",
       "      <th>2</th>\n",
       "      <td>gt fairly obvious agenda right agenda prevent ...</td>\n",
       "      <td>cometparty</td>\n",
       "      <td>0</td>\n",
       "      <td>gtyou people time time shown confused party al...</td>\n",
       "      <td>16</td>\n",
       "      <td>deleted</td>\n",
       "      <td>0</td>\n",
       "    </tr>\n",
       "    <tr>\n",
       "      <th>3</th>\n",
       "      <td>probably due skin looking supple like tanned l...</td>\n",
       "      <td>deleted</td>\n",
       "      <td>0</td>\n",
       "      <td>like woman either naturally tan really pale so...</td>\n",
       "      <td>902</td>\n",
       "      <td>deleted</td>\n",
       "      <td>0</td>\n",
       "    </tr>\n",
       "    <tr>\n",
       "      <th>4</th>\n",
       "      <td>kendrick lamar he like poverty lupe fiasco bet...</td>\n",
       "      <td>purrppassion</td>\n",
       "      <td>0</td>\n",
       "      <td>overrated discography hip hop</td>\n",
       "      <td>33</td>\n",
       "      <td>mr2good4you</td>\n",
       "      <td>0</td>\n",
       "    </tr>\n",
       "  </tbody>\n",
       "</table>\n",
       "</div>"
      ],
      "text/plain": [
       "                                                text        author  \\\n",
       "0  big deal fought napoleonic war practically imm...      recquery   \n",
       "1             dont think animal care either way dead        n4n4ki   \n",
       "2  gt fairly obvious agenda right agenda prevent ...    cometparty   \n",
       "3  probably due skin looking supple like tanned l...       deleted   \n",
       "4  kendrick lamar he like poverty lupe fiasco bet...  purrppassion   \n",
       "\n",
       "   controversiality                                        parent_text  \\\n",
       "0                 0  big deal shot three arrow kept defending midge...   \n",
       "1                 0  animal cruelty joke kill something intent eat ...   \n",
       "2                 0  gtyou people time time shown confused party al...   \n",
       "3                 0  like woman either naturally tan really pale so...   \n",
       "4                 0                      overrated discography hip hop   \n",
       "\n",
       "   parent_votes       parent_author  parent_controversiality  \n",
       "0           438  illchopyourfaceoff                        0  \n",
       "1            38                  0o                        0  \n",
       "2            16             deleted                        0  \n",
       "3           902             deleted                        0  \n",
       "4            33         mr2good4you                        0  "
      ]
     },
     "execution_count": 72,
     "metadata": {},
     "output_type": "execute_result"
    }
   ],
   "source": [
    "df.head()"
   ]
  },
  {
   "cell_type": "code",
   "execution_count": 73,
   "id": "cc8218ab",
   "metadata": {},
   "outputs": [],
   "source": [
    "num_cols = df[['controversiality', 'parent_votes', 'parent_controversiality']]"
   ]
  },
  {
   "cell_type": "code",
   "execution_count": 78,
   "id": "50a4d532",
   "metadata": {},
   "outputs": [],
   "source": [
    "x = pd.concat([text_tf_idf,num_cols], axis=1)\n",
    "y = df['parent_votes']"
   ]
  },
  {
   "cell_type": "code",
   "execution_count": 79,
   "id": "7a7c819d",
   "metadata": {},
   "outputs": [],
   "source": [
    "from sklearn.model_selection import train_test_split\n",
    "x_train, x_test, y_train, y_test = train_test_split(x,y,test_size=0.2, random_state = 0)"
   ]
  },
  {
   "cell_type": "code",
   "execution_count": 80,
   "id": "0b51c5e5",
   "metadata": {},
   "outputs": [
    {
     "data": {
      "text/plain": [
       "LinearRegression()"
      ]
     },
     "execution_count": 80,
     "metadata": {},
     "output_type": "execute_result"
    }
   ],
   "source": [
    "from sklearn.linear_model import LinearRegression\n",
    "lr = LinearRegression()\n",
    "lr"
   ]
  },
  {
   "cell_type": "code",
   "execution_count": 81,
   "id": "c6563d3e",
   "metadata": {},
   "outputs": [
    {
     "data": {
      "text/plain": [
       "LinearRegression()"
      ]
     },
     "execution_count": 81,
     "metadata": {},
     "output_type": "execute_result"
    }
   ],
   "source": [
    "lr.fit(x_train, y_train)"
   ]
  },
  {
   "cell_type": "code",
   "execution_count": 82,
   "id": "42b1355c",
   "metadata": {},
   "outputs": [
    {
     "data": {
      "text/plain": [
       "array([ 1.550e+02,  3.700e+02,  8.600e+01,  2.940e+02,  3.080e+02,\n",
       "        3.800e+01,  5.300e+01,  2.290e+02,  4.900e+01,  1.500e+01,\n",
       "        3.200e+01,  1.300e+01,  1.231e+03,  3.700e+02,  1.670e+02,\n",
       "        2.570e+02,  4.430e+02,  7.000e+00,  1.720e+02,  1.940e+02,\n",
       "        1.300e+01,  6.000e+00,  4.800e+01,  1.010e+02,  7.000e+01,\n",
       "        3.490e+02,  1.128e+03,  9.000e+00,  1.300e+01,  3.100e+01,\n",
       "        1.300e+01,  3.500e+01,  5.020e+02,  1.455e+03,  3.530e+02,\n",
       "        2.000e+01,  3.500e+01,  1.110e+02,  4.300e+01,  5.600e+01,\n",
       "        1.400e+01,  9.490e+02,  3.600e+01,  9.000e+00,  1.060e+02,\n",
       "        8.000e+00,  2.210e+02,  4.800e+02,  2.800e+01,  1.281e+03,\n",
       "       -8.000e+00,  1.270e+02,  1.600e+01,  4.020e+02,  1.540e+02,\n",
       "        3.200e+01,  1.600e+01,  2.380e+02,  6.500e+01,  1.330e+02,\n",
       "        2.390e+02,  3.000e+01,  5.660e+02,  1.700e+01,  1.000e+01,\n",
       "        1.190e+02,  2.110e+02,  3.670e+02,  6.640e+02,  1.700e+01,\n",
       "        7.650e+02,  2.260e+02,  1.400e+01,  1.670e+02,  2.610e+02,\n",
       "       -1.017e+03,  2.090e+02,  1.100e+01,  6.320e+02,  2.293e+03,\n",
       "        3.000e+00,  1.610e+02,  5.000e+00,  1.248e+03,  6.800e+01,\n",
       "        1.440e+02,  2.000e+00,  1.600e+01,  1.100e+01,  6.290e+02,\n",
       "        1.800e+01,  8.000e+00,  4.360e+02,  7.240e+02,  7.000e+00,\n",
       "        3.275e+03,  1.870e+02,  1.270e+03,  1.730e+02,  4.600e+02,\n",
       "        4.800e+01,  1.100e+01,  2.500e+01,  2.080e+02,  1.460e+02,\n",
       "        6.400e+01,  1.000e+01,  2.780e+02,  3.980e+02,  1.200e+01,\n",
       "        2.660e+02,  1.260e+02,  1.800e+01,  3.640e+02,  3.292e+03,\n",
       "        1.190e+02,  2.000e+00,  4.790e+02,  1.850e+02,  3.560e+02,\n",
       "        1.260e+02,  7.200e+01,  1.130e+02,  3.560e+02, -5.000e+00,\n",
       "        2.590e+02,  2.300e+01,  7.840e+02,  2.300e+01,  4.980e+02,\n",
       "        1.000e+01,  6.000e+00,  7.500e+01,  6.900e+01,  1.360e+02,\n",
       "        2.000e+01,  1.105e+03,  3.940e+02,  5.700e+01,  1.000e+00,\n",
       "        3.200e+01,  1.800e+03,  8.500e+01,  7.000e+00,  7.700e+01,\n",
       "        1.540e+02,  1.860e+03,  1.200e+01,  4.000e+00,  1.800e+01,\n",
       "        2.600e+01,  5.000e+00,  7.000e+00,  6.240e+02,  3.400e+01,\n",
       "        1.430e+02,  1.240e+02,  7.000e+00,  6.800e+01,  4.000e+00,\n",
       "       -2.000e+01,  1.460e+02,  3.800e+01,  1.120e+02,  1.900e+01,\n",
       "        1.320e+02,  2.400e+01,  3.600e+01,  1.400e+01,  1.777e+03,\n",
       "        4.000e+00,  2.420e+02,  3.980e+02,  5.080e+02,  4.350e+02,\n",
       "        9.000e+01,  7.000e+00,  9.400e+01,  1.800e+01,  6.200e+01,\n",
       "        1.490e+02,  8.800e+01,  5.700e+01,  6.500e+01,  4.400e+01,\n",
       "        1.320e+02,  3.400e+01,  6.500e+01,  3.700e+01,  3.000e+01,\n",
       "        3.980e+02, -2.600e+01,  5.040e+02,  3.500e+01,  6.850e+02,\n",
       "        9.400e+02,  5.570e+02,  7.000e+00,  2.700e+01, -3.000e+00,\n",
       "        1.000e+00,  3.040e+02,  1.136e+03])"
      ]
     },
     "execution_count": 82,
     "metadata": {},
     "output_type": "execute_result"
    }
   ],
   "source": [
    "y_pred = lr.predict(x_test)\n",
    "y_pred"
   ]
  },
  {
   "cell_type": "code",
   "execution_count": 83,
   "id": "ac8fdd3f",
   "metadata": {},
   "outputs": [
    {
     "data": {
      "text/plain": [
       "1.0"
      ]
     },
     "execution_count": 83,
     "metadata": {},
     "output_type": "execute_result"
    }
   ],
   "source": [
    "from sklearn.metrics import r2_score\n",
    "accuracy = r2_score(y_test,y_pred)\n",
    "accuracy"
   ]
  },
  {
   "cell_type": "markdown",
   "id": "0cec0f6f",
   "metadata": {},
   "source": [
    "- 100% accuracy"
   ]
  },
  {
   "cell_type": "code",
   "execution_count": null,
   "id": "da75220e",
   "metadata": {},
   "outputs": [],
   "source": []
  }
 ],
 "metadata": {
  "kernelspec": {
   "display_name": "Python 3 (ipykernel)",
   "language": "python",
   "name": "python3"
  },
  "language_info": {
   "codemirror_mode": {
    "name": "ipython",
    "version": 3
   },
   "file_extension": ".py",
   "mimetype": "text/x-python",
   "name": "python",
   "nbconvert_exporter": "python",
   "pygments_lexer": "ipython3",
   "version": "3.9.13"
  }
 },
 "nbformat": 4,
 "nbformat_minor": 5
}
